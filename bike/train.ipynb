{
 "cells": [
  {
   "cell_type": "code",
   "execution_count": 1,
   "metadata": {},
   "outputs": [],
   "source": [
    "import pandas as pd\n",
    "import numpy as np\n",
    "import requests\n",
    "from lxml import html\n",
    "from bs4 import BeautifulSoup\n",
    "import requests\n",
    "import time\n",
    "from tqdm import tqdm\n",
    "from datetime import datetime\n",
    "from unidecode import unidecode\n",
    "import warnings\n",
    "import os\n",
    "import random\n",
    "\n",
    "sys.path.append(os.getcwd().replace(\"\\\\\",\"/\")[:-4])\n",
    "import models\n",
    "import functions as func\n",
    "import paths as ph\n",
    "\n",
    "sys.path.append(os.getcwd().replace(\"\\\\\",\"/\") + \"/src\")\n",
    "import homologations as ho\n",
    "import spider\n",
    "\n",
    "warnings.filterwarnings(\"ignore\")\n",
    "pd.options.display.max_columns = None\n",
    "\n",
    "headers = {\"User-Agent\" : \"Mozilla/5.0 (Windows NT 10.0; Win64; x64) AppleWebKit/537.36 (KHTML, like Gecko) Chrome/103.0.5060.114 Safari/537.36 Edg/103.0.1264.49\"}\n",
    "\n",
    "\n",
    "actual_date = func.GetActualDate()\n",
    "actual_year = datetime.today().year\n",
    "\n",
    "paths_temp = paths.temp\n",
    "\n",
    "ReadTemp = spider.ReadTemp\n",
    "Criterios = spider.Criterios\n",
    "RefineAtributes = spider.RefineAtributes\n",
    "TrainModel = spider.TrainModel\n",
    "\n",
    "tipo_de_moto = ho.tipo_de_moto"
   ]
  },
  {
   "cell_type": "code",
   "execution_count": null,
   "metadata": {},
   "outputs": [],
   "source": [
    "#def Main(counter_file = 200, delay = 1, reprocess_oferts_urls = True): # Funcional delay = 1.5\n",
    "print(\"Bloque 4: concatenado final de archivos\")\n",
    "df = ReadTemp()\n",
    "df = df[df[\"estado\"] == 1]\n",
    "print(\"=\"*120)\n",
    "\n",
    "\n",
    "print(\"Bloque 5: refinando atributos\")\n",
    "df = RefineAtributes(df)\n",
    "print(\"-\"*120)\n",
    "\n",
    "print(\"Correctos final:\", df[df[\"estado\"] == 1].shape[0], \"|\", round((df[df[\"estado\"] == 1].shape[0]/df.shape[0])*100, 2), \"%\")\n",
    "print(\"Dimensión df:\", df.shape)\n",
    "vars_duplicates = [\"marca\", \"modelo\", \"precio\", \"año\", \"cilindrada\", \"km\", \"barrio\", \"ciudad\", \"departamento\"]\n",
    "print(\"Duplicados por atributos:\", df[df.duplicated(vars_duplicates)].shape[0])\n",
    "print(\"Duplicados por url:\", df[df.duplicated([\"url\"])].shape[0])\n",
    "print(\"Duplicados por id:\", df[df.duplicated([\"id_ofert\"])].shape[0])\n",
    "\n",
    "\n",
    "df = df.drop_duplicates(\"url\").drop_duplicates(\"id_ofert\").drop_duplicates(vars_duplicates)\n",
    "print(\"Dimensión df sin duplicados:\", df.shape)\n",
    "\n",
    "print(\"Bloque 6: imputación de datos faltantes en categoricas\"); print(\"-\"*50)\n",
    "#df = models.ImputCategorics(df, \"marca_modelo\", \"transmision\", 70)\n",
    "brands_ejecution = list(set(df[\"marca\"].tolist()))\n",
    "models_ejecution = list(set(df[\"modelo\"].tolist()))\n",
    "print(\"=\"*120)\n"
   ]
  },
  {
   "cell_type": "code",
   "execution_count": null,
   "metadata": {},
   "outputs": [],
   "source": [
    "print(df.shape)\n",
    "df = df[(df[\"año\"].notna()) & (df[\"marca\"].notna()) & (df[\"modelo\"] != \"Pendiente\")]\n",
    "print(df.shape)"
   ]
  },
  {
   "cell_type": "code",
   "execution_count": 4,
   "metadata": {},
   "outputs": [],
   "source": [
    "df2 = df.copy()"
   ]
  },
  {
   "cell_type": "code",
   "execution_count": null,
   "metadata": {},
   "outputs": [],
   "source": [
    "print(df[\"cilindrada\"].isnull().sum() / df.shape[0])"
   ]
  },
  {
   "cell_type": "code",
   "execution_count": 6,
   "metadata": {},
   "outputs": [],
   "source": [
    "df2 = df2[df2[\"cilindrada\"] >= 60]\n",
    "df = df2.copy()"
   ]
  },
  {
   "cell_type": "code",
   "execution_count": null,
   "metadata": {},
   "outputs": [],
   "source": [
    "print(df.shape)\n",
    "df = df[df[\"marca\"].isin(ho.brands_homologue)]\n",
    "print(df.shape)\n",
    "\n",
    "print(\"Bloque 9: agrupacion de variables\"); print(\"-\"*50)\n",
    "df = models.ClassicationTreeGroup(df, y = \"precio\", x = \"marca\", max_leaf_nodes=[10])\n",
    "df = models.ClassicationTreeGroup(df, y = \"precio\", x = \"modelo\", max_leaf_nodes=[50])\n",
    "print(\"=\"*120)"
   ]
  },
  {
   "cell_type": "code",
   "execution_count": 8,
   "metadata": {},
   "outputs": [],
   "source": [
    "\n",
    "# print(\"Bloque 7: imputando valores faltantes en cilindraje\"); print(\"-\"*50)\n",
    "# df[\"cilindrada\"] = np.log(df[\"cilindrada\"])\n",
    "# df = models.ImputRegression(df, y = 'cilindrada', x = ['año', 'marca', 'modelo'], method = \"lm\")\n",
    "# df[\"cilindrada\"] = round(np.exp(df[\"cilindrada\"]), 2)\n",
    "# print(\"=\"*120)\n"
   ]
  },
  {
   "cell_type": "code",
   "execution_count": null,
   "metadata": {},
   "outputs": [],
   "source": [
    "df[[\"precio\", \"año\", \"km\", \"cilindrada\", \"tipo_de_moto\", \"4_tiempos\", \n",
    "    \"km_por_año\",\"marca\", \"modelo_agrup\"]].dropna()"
   ]
  },
  {
   "cell_type": "code",
   "execution_count": null,
   "metadata": {},
   "outputs": [],
   "source": [
    "\n",
    "\n",
    "print(\"TENIENDO EN CUENTA DUMMYS DE NULOS\")\n",
    "\n",
    "\n",
    "print(\"Bloque 8: criterios de exclusión e inclusión\"); print(\"-\"*50)\n",
    "df = Criterios(df)\n",
    "print(\"=\"*120)\n",
    "\n",
    "\n",
    "\n",
    "df = df[['estado', 'nombre', 'precio', 'año', 'km', 'km_por_año', \"tipo_de_moto\", \"4_tiempos\", \n",
    "         'barrio', 'ciudad','departamento','fecha', 'url', 'dtm_etl', 'marca_modelo', 'marca', \n",
    "         'modelo', 'modelo_agrup','cilindrada']]\n",
    "\n",
    "import paths as ph\n",
    "save_model = True\n",
    "#if save_model == True:\n",
    "#df.to_csv(f\"data/df_refine_{actual_date}.csv\", sep = \"|\", index = False)\n",
    "df.to_parquet(f'{ph.data_bike}/df_refine_{actual_date}.parquet', compression = \"gzip\")\n",
    "\n",
    "dim_models_group = df[[\"modelo\", \"modelo_agrup\"]].drop_duplicates()\n",
    "func.pkl.Save(dim_models_group, f'{ph.pkl_bike}/motos_dim_models_group.pkl')\n",
    "print(\"=\"*120)\n",
    "\n",
    "print(\"Bloque 10: entrenando modelo predictivo\"); print(\"-\"*50)\n",
    "model = TrainModel(df, save_model)\n",
    "print(\"=\"*120)\n",
    "\n",
    "print(\"---------- Precio ----------\")\n",
    "print(\"Media:\", round(df[\"precio\"].mean(), 2))\n",
    "print(\"Mediana:\", round(df[\"precio\"].median(), 2))\n",
    "print(\"CV:\", round(np.sqrt(df[\"precio\"].var()) / df[\"precio\"].mean() * 100, 2), \"%\")\n",
    "#print(\"Umbral:\", round(umbral_precio, 3))\n",
    "print(\"=\"*120)\n",
    "\n",
    "print(\"Dimensión final:\", df.shape)\n",
    "#print(f\"El proceso tardó: {datetime.now() - time1}\")\n",
    "print(\"=\"*120)\n",
    "\n",
    "\n",
    "print(\"Marca\")\n",
    "print(\"','\".join(list(set(brands_ejecution) - set(ho.brands_homologue))))\n",
    "print(\"-\"*120)\n",
    "print(\"Modelo\")\n",
    "print(\"','\".join(pd.Series(list(set(models_ejecution) - set(ho.models_all))).fillna(\"NULO\")))\n",
    "print(\"-\"*120)\n"
   ]
  },
  {
   "cell_type": "code",
   "execution_count": null,
   "metadata": {},
   "outputs": [],
   "source": []
  },
  {
   "cell_type": "code",
   "execution_count": null,
   "metadata": {},
   "outputs": [],
   "source": []
  },
  {
   "cell_type": "code",
   "execution_count": null,
   "metadata": {},
   "outputs": [],
   "source": []
  },
  {
   "cell_type": "code",
   "execution_count": null,
   "metadata": {},
   "outputs": [],
   "source": []
  },
  {
   "cell_type": "code",
   "execution_count": null,
   "metadata": {},
   "outputs": [],
   "source": [
    "cols_numeric = [\"precio\", \"año\", \"km\", \"motor\", \"km_por_año\"]\n",
    "for col in cols_numeric:\n",
    "    df[col] = df[col].astype(float)\n",
    "df_train = df[[\"precio\", \"año\", \"km\", \"motor\", \"km_por_año\", \"transmision\", \"tipo_de_combustible\", \n",
    "                \"tipo_de_carroceria\", \"puertas\",\"marca\", \"modelo_agrup\"]].dropna()\n",
    "df_train[\"precio\"] = np.log(df_train[\"precio\"].astype(float))\n",
    "\n",
    "X_train, X_test, y_train, y_test = models.TrainTestDummies(df = df_train, y='precio',\n",
    "                                                                dummies = [\"marca\", \"modelo_agrup\", \"transmision\", \"tipo_de_combustible\", \n",
    "                                                                        \"tipo_de_carroceria\", \"puertas\"])\n",
    "print(\"Dimensión train:\", X_train.shape)\n",
    "print(\"Dimensión test:\", X_test.shape)"
   ]
  },
  {
   "cell_type": "code",
   "execution_count": null,
   "metadata": {},
   "outputs": [],
   "source": [
    "from keras.models import Sequential\n",
    "from keras.layers import Dense\n",
    "from keras.wrappers.scikit_learn import KerasRegressor\n",
    "from sklearn.preprocessing import MinMaxScaler\n",
    "from sklearn.model_selection import GridSearchCV\n",
    "import pandas as pd\n",
    "import numpy as np\n",
    "\n",
    "scalerX = MinMaxScaler()\n",
    "scalerY = MinMaxScaler()\n",
    "X_new_scaled = scalerX.transform(X)\n",
    "y_pred_scaled = model.predict(X_new_scaled)\n",
    "y_pred = scalerY.inverse_transform(y_pred_scaled.reshape(-1, 1))\n",
    "y_pred"
   ]
  },
  {
   "cell_type": "code",
   "execution_count": null,
   "metadata": {},
   "outputs": [],
   "source": [
    "models.NN().predict(X_test)"
   ]
  },
  {
   "cell_type": "code",
   "execution_count": null,
   "metadata": {},
   "outputs": [],
   "source": []
  },
  {
   "cell_type": "markdown",
   "metadata": {},
   "source": [
    "# Entrenando NN (FUNCIONAL)"
   ]
  },
  {
   "cell_type": "code",
   "execution_count": 3,
   "metadata": {},
   "outputs": [],
   "source": [
    "df = pd.read_parquet(\"/workspaces/cars/data/df_refine_20240915.parquet\")\n",
    "df.shape\n",
    "\n",
    "cols_numeric = [\"precio\", \"año\", \"km\", \"motor\", \"km_por_año\"]\n",
    "for col in cols_numeric:\n",
    "    df[col] = df[col].astype(float)\n",
    "df_train = df[[\"precio\", \"año\", \"km\", \"motor\", \"km_por_año\", \"transmision\", \"tipo_de_combustible\", \n",
    "                \"tipo_de_carroceria\", \"puertas\",\"marca\", \"modelo_agrup\"]].dropna()\n",
    "df_train[\"precio\"] = np.log(df_train[\"precio\"].astype(float))\n",
    "\n",
    "X_train, X_test, y_train, y_test = models.TrainTestDummies(df = df_train, y='precio',\n",
    "                                                                dummies = [\"marca\", \"modelo_agrup\", \"transmision\", \"tipo_de_combustible\", \n",
    "                                                                        \"tipo_de_carroceria\", \"puertas\"])"
   ]
  },
  {
   "cell_type": "code",
   "execution_count": null,
   "metadata": {},
   "outputs": [],
   "source": [
    "param_grid = {\n",
    "                'layers': [[64, 128]], \n",
    "                'activation': ['relu'],      \n",
    "                'optimizer': ['adam'],         \n",
    "                'epochs': [100],                 \n",
    "                'batch_size': [10]\n",
    "            }\n",
    "model, metrics_test = models.NN(X_train = X_train, X_test = X_test, y_train = y_train, y_test = y_test, param_grid = param_grid, cv = 2, save = True).fit()"
   ]
  },
  {
   "cell_type": "markdown",
   "metadata": {},
   "source": [
    "# Predict"
   ]
  },
  {
   "cell_type": "code",
   "execution_count": null,
   "metadata": {},
   "outputs": [],
   "source": [
    "año = 2005\n",
    "km = 150000\n",
    "motor = 4\n",
    "marca = \"Ford\"\n",
    "modelo = \"Explorer\"\n",
    "tipo_de_carroceria = \"Camioneta\"\n",
    "puertas = \"4_5\"\n",
    "transmision = \"Automático\"\n",
    "tipo_de_combustible = \"Gasolina\"\n",
    "modelo = df[df[\"modelo\"] == modelo][\"modelo_agrup\"].unique()[0]\n",
    "\n",
    "import joblib\n",
    "files_models = sorted(os.listdir(\"models\"))[-1]\n",
    "model = joblib.load(\"models/\" + files_models)  \n",
    "\n",
    "cols_numeric = [\"precio\", \"año\", \"km\", \"motor\", \"km_por_año\"]\n",
    "for col in cols_numeric:\n",
    "    df[col] = df[col].astype(float)\n",
    "df_train = df[[\"precio\", \"año\", \"km\", \"motor\", \"km_por_año\", \"transmision\", \"tipo_de_combustible\", \"tipo_de_carroceria\", \"puertas\",\n",
    "                \"marca\", \"modelo_agrup\"]].dropna()\n",
    "df_train[\"precio\"] = np.log(df_train[\"precio\"].astype(float))\n",
    "\n",
    "dim_models = func.pkl.Load(\"pkl/dim_models_group.pkl\")[[\"modelo\", \"modelo_agrup\"]].drop_duplicates()\n",
    "dim_doors = func.pkl.Load(\"pkl/dim_models_group.pkl\")[[\"modelo\", \"puertas\"]].drop_duplicates()\n",
    "\n",
    "modelo = dim_models[dim_models[\"modelo\"] == modelo][\"modelo_agrup\"].unique()[0]\n",
    "puertas = dim_doors[dim_doors[\"modelo\"] == modelo][\"puertas\"].unique().tolist()\n",
    "\n",
    "if puertas == []:\n",
    "    puertas = \"4_5\"\n",
    "else:\n",
    "    puertas = puertas[0]\n",
    "df_new = pd.DataFrame({\"año\":[año], \"km\":[km], \"motor\":[motor], \"km_por_año\":[km/(datetime.today().year-año)], \n",
    "                        \"transmision\":[transmision], \"tipo_de_combustible\":[tipo_de_combustible],\"marca\":[marca], \n",
    "                        \"modelo_agrup\":[modelo], \"puertas\":[puertas], \"tipo_de_carroceria\":[tipo_de_carroceria]})\n",
    "df_new = pd.get_dummies(df_new, columns = [\"transmision\", \"tipo_de_combustible\", \"marca\", \"modelo_agrup\",\n",
    "                                            \"puertas\", \"tipo_de_carroceria\"]).replace(True, 1)\n",
    "\n",
    "df_predict = pd.DataFrame(columns = model.feature_names_in_)\n",
    "df_predict.loc[0] = 0\n",
    "features = model.feature_names_in_.tolist()\n",
    "features_delete = list(set(df_new.columns) - set(features))\n",
    "if features_delete != []:\n",
    "    df_predict.drop(columns = features_delete, inplace = True)\n",
    "\n",
    "predict = int(np.exp(model.predict(features_delete))*1000000)"
   ]
  }
 ],
 "metadata": {
  "kernelspec": {
   "display_name": "Python 3 (ipykernel)",
   "language": "python",
   "name": "python3"
  },
  "language_info": {
   "codemirror_mode": {
    "name": "ipython",
    "version": 3
   },
   "file_extension": ".py",
   "mimetype": "text/x-python",
   "name": "python",
   "nbconvert_exporter": "python",
   "pygments_lexer": "ipython3",
   "version": "3.7.6"
  }
 },
 "nbformat": 4,
 "nbformat_minor": 4
}
