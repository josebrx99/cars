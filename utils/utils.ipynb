{
 "cells": [
  {
   "cell_type": "code",
   "execution_count": 1,
   "metadata": {},
   "outputs": [],
   "source": [
    "import pandas as pd\n",
    "import numpy as np\n",
    "import requests\n",
    "from lxml import html\n",
    "import time\n",
    "from datetime import datetime\n",
    "from unidecode import unidecode\n",
    "import warnings\n",
    "from tqdm import tqdm\n",
    "import os\n",
    "\n",
    "import src.spider as spider\n",
    "import src.models as models"
   ]
  },
  {
   "cell_type": "markdown",
   "metadata": {},
   "source": [
    "## dim ciudades"
   ]
  },
  {
   "cell_type": "code",
   "execution_count": null,
   "metadata": {},
   "outputs": [],
   "source": [
    "df_ubicacion = df[[\"ciudad\", \"departamento\"]].drop_duplicates().sort_values(\"departamento\").dropna()\n",
    "df_ubicacion[\"ciudad\"] = [unidecode(x.lower().rstrip(\" \").lstrip(\" \").replace(\" \", \"-\")) for x in df_ubicacion[\"ciudad\"].astype(str)]\n",
    "df_ubicacion[\"departamento\"] = [unidecode(x.lower().rstrip(\" \").lstrip(\" \").replace(\" \", \"-\")) for x in df_ubicacion[\"departamento\"].astype(str)]\n",
    "df_ubicacion[\"departamento\"] = df_ubicacion[\"departamento\"].replace({\"bogota-d.c.\":\"bogota-dc\"})"
   ]
  },
  {
   "cell_type": "code",
   "execution_count": null,
   "metadata": {},
   "outputs": [],
   "source": [
    "df_ubicacion.to_csv(\"dim_ubicacion_full.csv\", sep = \"|\", index = False)"
   ]
  },
  {
   "cell_type": "code",
   "execution_count": null,
   "metadata": {},
   "outputs": [],
   "source": [
    "len(df_ubicacion[\"ciudad\"].unique())"
   ]
  },
  {
   "cell_type": "code",
   "execution_count": null,
   "metadata": {},
   "outputs": [],
   "source": []
  },
  {
   "cell_type": "markdown",
   "metadata": {},
   "source": [
    "## Auxiliares"
   ]
  },
  {
   "cell_type": "code",
   "execution_count": null,
   "metadata": {},
   "outputs": [],
   "source": [
    "marcas = set([unidecode(x.lower()).replace(\" \", \"-\") for x in df[\"marca\"]])\n",
    "print(len(marcas))\n",
    "\"','\".join(marcas)"
   ]
  },
  {
   "cell_type": "code",
   "execution_count": null,
   "metadata": {},
   "outputs": [],
   "source": []
  },
  {
   "cell_type": "code",
   "execution_count": null,
   "metadata": {},
   "outputs": [],
   "source": [
    "ubic = pd.read_csv(\"dim_ubicacion_all.csv\", sep = \"|\")"
   ]
  },
  {
   "cell_type": "code",
   "execution_count": null,
   "metadata": {},
   "outputs": [],
   "source": [
    "ubic.sort_values([\"departamento\"]).drop_duplicates()"
   ]
  }
 ],
 "metadata": {
  "kernelspec": {
   "display_name": "Python 3 (ipykernel)",
   "language": "python",
   "name": "python3"
  },
  "language_info": {
   "codemirror_mode": {
    "name": "ipython",
    "version": 3
   },
   "file_extension": ".py",
   "mimetype": "text/x-python",
   "name": "python",
   "nbconvert_exporter": "python",
   "pygments_lexer": "ipython3",
   "version": "3.12.4"
  }
 },
 "nbformat": 4,
 "nbformat_minor": 4
}
